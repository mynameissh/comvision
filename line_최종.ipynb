{
  "nbformat": 4,
  "nbformat_minor": 0,
  "metadata": {
    "colab": {
      "name": "line_최종",
      "provenance": [],
      "authorship_tag": "ABX9TyPMwVLcrMSn4Rsc23wMxyi5",
      "include_colab_link": true
    },
    "kernelspec": {
      "name": "python3",
      "display_name": "Python 3"
    },
    "language_info": {
      "name": "python"
    }
  },
  "cells": [
    {
      "cell_type": "markdown",
      "metadata": {
        "id": "view-in-github",
        "colab_type": "text"
      },
      "source": [
        "<a href=\"https://colab.research.google.com/github/mynameissh/comvision/blob/P%26ID_drawings/line_%EC%B5%9C%EC%A2%85.ipynb\" target=\"_parent\"><img src=\"https://colab.research.google.com/assets/colab-badge.svg\" alt=\"Open In Colab\"/></a>"
      ]
    },
    {
      "cell_type": "code",
      "metadata": {
        "colab": {
          "base_uri": "https://localhost:8080/"
        },
        "id": "gZ3y3_9nMobu",
        "outputId": "d1988007-2a5b-426c-8c8a-f6af4f2ab8c6"
      },
      "source": [
        "from google.colab import drive\n",
        "drive.mount('/content/drive')\n"
      ],
      "execution_count": 5,
      "outputs": [
        {
          "output_type": "stream",
          "text": [
            "Drive already mounted at /content/drive; to attempt to forcibly remount, call drive.mount(\"/content/drive\", force_remount=True).\n"
          ],
          "name": "stdout"
        }
      ]
    },
    {
      "cell_type": "code",
      "metadata": {
        "id": "o2GGzE8hTK8h"
      },
      "source": [
        "\n"
      ],
      "execution_count": null,
      "outputs": []
    },
    {
      "cell_type": "code",
      "metadata": {
        "colab": {
          "base_uri": "https://localhost:8080/",
          "height": 347
        },
        "id": "nZU4i_EPUFfV",
        "outputId": "f8df4480-10c7-4d5c-db1d-a8fe432d8c44"
      },
      "source": [
        "import numpy as np\n",
        "import cv2\n",
        "from google.colab.patches import cv2_imshow\n",
        "\n",
        "imgfile='/content/drive/MyDrive/s1.png'\n",
        "img=cv2.imread(imgfile)\n",
        "cv2_imshow(img)\n",
        "\n",
        "#gray\n",
        "h, w, c = img.shape\n",
        "gray_s1 = np.zeros((h,w), dtype = np.uint8)\n",
        "\n",
        "for y in range (0,h):\n",
        "    for x in range (0,w):\n",
        "        blue = img.item(y,x,0)\n",
        "        green = img.item(y,x,1)\n",
        "        red = img.item(y,x,2)\n",
        "        gray = (int(blue) + int(green) + int(red)) / 3.0\n",
        "       \n",
        "        gray_s1.itemset(y,x,gray)\n",
        "\n",
        "#255-f\n",
        "hs, ws = gray_s1.shape\n",
        "f = np.zeros((hs,ws), dtype = np.uint8)\n",
        "f_th = np.zeros((hs,ws), dtype = np.uint8)\n",
        "\n",
        "\n",
        "for i in range (0,hs):\n",
        "    for j in range (0,ws):\n",
        "        f[i][j] = 255 - gray_s1[i][j]\n",
        "for i in range (0,hs):\n",
        "    for j in range (0,ws):\n",
        "        if f[i][j] > 10:\n",
        "            f[i][j] = 255\n",
        "        else:\n",
        "            f[i][j] = 0\n",
        "            \n",
        "f[0:3, :] = 0 \n",
        "f[hs-3:hs-1, :] = 0 \n",
        "f[:, 0:3] = 0 \n",
        "f[:, ws-3:ws-1] = 0 \n",
        "        \n",
        "#thinning\n",
        "f_th = cv2.ximgproc.thinning(f)\n",
        "\n",
        "#filling\n",
        "from scipy import ndimage as ndi\n",
        "f_fill = ndi.binary_fill_holes(f_th)\n",
        "\n",
        "hs,ws = f_th.shape\n",
        "f_nf = np.zeros((hs,ws), dtype = np.uint8)\n",
        "\n",
        "for i in range (0,hs):\n",
        "    for j in range (0,ws):\n",
        "        if f_fill[i][j] == True:\n",
        "            f_nf[i][j] = 255\n",
        "        else:\n",
        "            f_nf[i][j] = 0\n",
        "            \n",
        "kernel = np.ones((3,3), dtype = np.uint8)\n",
        "f_e = cv2.erode(f_nf, kernel, iterations = 1)\n",
        "f_d = cv2.dilate(f_e, kernel, iterations = 1)\n",
        "f_line = f_nf - f_d\n",
        "\n",
        "cv2_imshow(f_nf)\n",
        "cv2_imshow(f_line)"
      ],
      "execution_count": 2,
      "outputs": [
        {
          "output_type": "error",
          "ename": "AttributeError",
          "evalue": "ignored",
          "traceback": [
            "\u001b[0;31m---------------------------------------------------------------------------\u001b[0m",
            "\u001b[0;31mAttributeError\u001b[0m                            Traceback (most recent call last)",
            "\u001b[0;32m<ipython-input-2-4ce1e2eb7c71>\u001b[0m in \u001b[0;36m<module>\u001b[0;34m()\u001b[0m\n\u001b[1;32m      5\u001b[0m \u001b[0mimgfile\u001b[0m\u001b[0;34m=\u001b[0m\u001b[0;34m'/content/drive/MyDrive/s1.png'\u001b[0m\u001b[0;34m\u001b[0m\u001b[0;34m\u001b[0m\u001b[0m\n\u001b[1;32m      6\u001b[0m \u001b[0mimg\u001b[0m\u001b[0;34m=\u001b[0m\u001b[0mcv2\u001b[0m\u001b[0;34m.\u001b[0m\u001b[0mimread\u001b[0m\u001b[0;34m(\u001b[0m\u001b[0mimgfile\u001b[0m\u001b[0;34m)\u001b[0m\u001b[0;34m\u001b[0m\u001b[0;34m\u001b[0m\u001b[0m\n\u001b[0;32m----> 7\u001b[0;31m \u001b[0mcv2_imshow\u001b[0m\u001b[0;34m(\u001b[0m\u001b[0mimg\u001b[0m\u001b[0;34m)\u001b[0m\u001b[0;34m\u001b[0m\u001b[0;34m\u001b[0m\u001b[0m\n\u001b[0m\u001b[1;32m      8\u001b[0m \u001b[0;34m\u001b[0m\u001b[0m\n\u001b[1;32m      9\u001b[0m \u001b[0;31m#gray\u001b[0m\u001b[0;34m\u001b[0m\u001b[0;34m\u001b[0m\u001b[0;34m\u001b[0m\u001b[0m\n",
            "\u001b[0;32m/usr/local/lib/python3.7/dist-packages/google/colab/patches/__init__.py\u001b[0m in \u001b[0;36mcv2_imshow\u001b[0;34m(a)\u001b[0m\n\u001b[1;32m     20\u001b[0m       \u001b[0mimage\u001b[0m\u001b[0;34m.\u001b[0m\u001b[0;34m\u001b[0m\u001b[0;34m\u001b[0m\u001b[0m\n\u001b[1;32m     21\u001b[0m   \"\"\"\n\u001b[0;32m---> 22\u001b[0;31m   \u001b[0ma\u001b[0m \u001b[0;34m=\u001b[0m \u001b[0ma\u001b[0m\u001b[0;34m.\u001b[0m\u001b[0mclip\u001b[0m\u001b[0;34m(\u001b[0m\u001b[0;36m0\u001b[0m\u001b[0;34m,\u001b[0m \u001b[0;36m255\u001b[0m\u001b[0;34m)\u001b[0m\u001b[0;34m.\u001b[0m\u001b[0mastype\u001b[0m\u001b[0;34m(\u001b[0m\u001b[0;34m'uint8'\u001b[0m\u001b[0;34m)\u001b[0m\u001b[0;34m\u001b[0m\u001b[0;34m\u001b[0m\u001b[0m\n\u001b[0m\u001b[1;32m     23\u001b[0m   \u001b[0;31m# cv2 stores colors as BGR; convert to RGB\u001b[0m\u001b[0;34m\u001b[0m\u001b[0;34m\u001b[0m\u001b[0;34m\u001b[0m\u001b[0m\n\u001b[1;32m     24\u001b[0m   \u001b[0;32mif\u001b[0m \u001b[0ma\u001b[0m\u001b[0;34m.\u001b[0m\u001b[0mndim\u001b[0m \u001b[0;34m==\u001b[0m \u001b[0;36m3\u001b[0m\u001b[0;34m:\u001b[0m\u001b[0;34m\u001b[0m\u001b[0;34m\u001b[0m\u001b[0m\n",
            "\u001b[0;31mAttributeError\u001b[0m: 'NoneType' object has no attribute 'clip'"
          ]
        }
      ]
    }
  ]
}